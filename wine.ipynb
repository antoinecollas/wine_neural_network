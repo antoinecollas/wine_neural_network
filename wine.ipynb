{
 "cells": [
  {
   "cell_type": "markdown",
   "metadata": {},
   "source": [
    "# Description des données"
   ]
  },
  {
   "cell_type": "code",
   "execution_count": 1,
   "metadata": {},
   "outputs": [
    {
     "name": "stdout",
     "output_type": "stream",
     "text": [
      "Wine Data Database\n",
      "====================\n",
      "\n",
      "Notes\n",
      "-----\n",
      "Data Set Characteristics:\n",
      "    :Number of Instances: 178 (50 in each of three classes)\n",
      "    :Number of Attributes: 13 numeric, predictive attributes and the class\n",
      "    :Attribute Information:\n",
      " \t\t- 1) Alcohol\n",
      " \t\t- 2) Malic acid\n",
      " \t\t- 3) Ash\n",
      "\t\t- 4) Alcalinity of ash  \n",
      " \t\t- 5) Magnesium\n",
      "\t\t- 6) Total phenols\n",
      " \t\t- 7) Flavanoids\n",
      " \t\t- 8) Nonflavanoid phenols\n",
      " \t\t- 9) Proanthocyanins\n",
      "\t\t- 10)Color intensity\n",
      " \t\t- 11)Hue\n",
      " \t\t- 12)OD280/OD315 of diluted wines\n",
      " \t\t- 13)Proline\n",
      "        \t- class:\n",
      "                - class_0\n",
      "                - class_1\n",
      "                - class_2\n",
      "\t\t\n",
      "    :Summary Statistics:\n",
      "    \n",
      "    ============================= ==== ===== ======= =====\n",
      "                                   Min   Max   Mean     SD\n",
      "    ============================= ==== ===== ======= =====\n",
      "    Alcohol:                      11.0  14.8    13.0   0.8\n",
      "    Malic Acid:                   0.74  5.80    2.34  1.12\n",
      "    Ash:                          1.36  3.23    2.36  0.27\n",
      "    Alcalinity of Ash:            10.6  30.0    19.5   3.3\n",
      "    Magnesium:                    70.0 162.0    99.7  14.3\n",
      "    Total Phenols:                0.98  3.88    2.29  0.63\n",
      "    Flavanoids:                   0.34  5.08    2.03  1.00\n",
      "    Nonflavanoid Phenols:         0.13  0.66    0.36  0.12\n",
      "    Proanthocyanins:              0.41  3.58    1.59  0.57\n",
      "    Colour Intensity:              1.3  13.0     5.1   2.3\n",
      "    Hue:                          0.48  1.71    0.96  0.23\n",
      "    OD280/OD315 of diluted wines: 1.27  4.00    2.61  0.71\n",
      "    Proline:                       278  1680     746   315\n",
      "    ============================= ==== ===== ======= =====\n",
      "\n",
      "    :Missing Attribute Values: None\n",
      "    :Class Distribution: class_0 (59), class_1 (71), class_2 (48)\n",
      "    :Creator: R.A. Fisher\n",
      "    :Donor: Michael Marshall (MARSHALL%PLU@io.arc.nasa.gov)\n",
      "    :Date: July, 1988\n",
      "\n",
      "This is a copy of UCI ML Wine recognition datasets.\n",
      "https://archive.ics.uci.edu/ml/machine-learning-databases/wine/wine.data\n",
      "\n",
      "The data is the results of a chemical analysis of wines grown in the same\n",
      "region in Italy by three different cultivators. There are thirteen different\n",
      "measurements taken for different constituents found in the three types of\n",
      "wine.\n",
      "\n",
      "Original Owners: \n",
      "\n",
      "Forina, M. et al, PARVUS - \n",
      "An Extendible Package for Data Exploration, Classification and Correlation. \n",
      "Institute of Pharmaceutical and Food Analysis and Technologies,\n",
      "Via Brigata Salerno, 16147 Genoa, Italy.\n",
      "\n",
      "Citation:\n",
      "\n",
      "Lichman, M. (2013). UCI Machine Learning Repository\n",
      "[http://archive.ics.uci.edu/ml]. Irvine, CA: University of California,\n",
      "School of Information and Computer Science. \n",
      "\n",
      "References\n",
      "----------\n",
      "(1) \n",
      "S. Aeberhard, D. Coomans and O. de Vel, \n",
      "Comparison of Classifiers in High Dimensional Settings, \n",
      "Tech. Rep. no. 92-02, (1992), Dept. of Computer Science and Dept. of \n",
      "Mathematics and Statistics, James Cook University of North Queensland. \n",
      "(Also submitted to Technometrics). \n",
      "\n",
      "The data was used with many others for comparing various \n",
      "classifiers. The classes are separable, though only RDA \n",
      "has achieved 100% correct classification. \n",
      "(RDA : 100%, QDA 99.4%, LDA 98.9%, 1NN 96.1% (z-transformed data)) \n",
      "(All results using the leave-one-out technique) \n",
      "\n",
      "(2) \n",
      "S. Aeberhard, D. Coomans and O. de Vel, \n",
      "\"THE CLASSIFICATION PERFORMANCE OF RDA\" \n",
      "Tech. Rep. no. 92-01, (1992), Dept. of Computer Science and Dept. of \n",
      "Mathematics and Statistics, James Cook University of North Queensland. \n",
      "(Also submitted to Journal of Chemometrics). \n",
      "\n"
     ]
    }
   ],
   "source": [
    "from sklearn.datasets import load_wine\n",
    "data = load_wine(return_X_y=False)\n",
    "print(data.DESCR)"
   ]
  },
  {
   "cell_type": "code",
   "execution_count": 2,
   "metadata": {},
   "outputs": [
    {
     "name": "stdout",
     "output_type": "stream",
     "text": [
      "<class 'numpy.ndarray'>\n",
      "<class 'numpy.ndarray'>\n",
      "[[1.423e+01 1.710e+00 2.430e+00 ... 1.040e+00 3.920e+00 1.065e+03]\n",
      " [1.320e+01 1.780e+00 2.140e+00 ... 1.050e+00 3.400e+00 1.050e+03]\n",
      " [1.316e+01 2.360e+00 2.670e+00 ... 1.030e+00 3.170e+00 1.185e+03]\n",
      " ...\n",
      " [1.327e+01 4.280e+00 2.260e+00 ... 5.900e-01 1.560e+00 8.350e+02]\n",
      " [1.317e+01 2.590e+00 2.370e+00 ... 6.000e-01 1.620e+00 8.400e+02]\n",
      " [1.413e+01 4.100e+00 2.740e+00 ... 6.100e-01 1.600e+00 5.600e+02]]\n",
      "[0 0 0 0 0 0 0 0 0 0 0 0 0 0 0 0 0 0 0 0 0 0 0 0 0 0 0 0 0 0 0 0 0 0 0 0 0\n",
      " 0 0 0 0 0 0 0 0 0 0 0 0 0 0 0 0 0 0 0 0 0 0 1 1 1 1 1 1 1 1 1 1 1 1 1 1 1\n",
      " 1 1 1 1 1 1 1 1 1 1 1 1 1 1 1 1 1 1 1 1 1 1 1 1 1 1 1 1 1 1 1 1 1 1 1 1 1\n",
      " 1 1 1 1 1 1 1 1 1 1 1 1 1 1 1 1 1 1 1 2 2 2 2 2 2 2 2 2 2 2 2 2 2 2 2 2 2\n",
      " 2 2 2 2 2 2 2 2 2 2 2 2 2 2 2 2 2 2 2 2 2 2 2 2 2 2 2 2 2 2]\n"
     ]
    }
   ],
   "source": [
    "data = load_wine(return_X_y=True)\n",
    "X = data[0]\n",
    "y = data[1]\n",
    "\n",
    "print(type(X))\n",
    "print(type(y))\n",
    "\n",
    "print(X)\n",
    "print(y)"
   ]
  },
  {
   "cell_type": "markdown",
   "metadata": {},
   "source": [
    "## Centrer-réduire les données, très important"
   ]
  },
  {
   "cell_type": "code",
   "execution_count": 3,
   "metadata": {},
   "outputs": [
    {
     "name": "stdout",
     "output_type": "stream",
     "text": [
      "[[ 1.51861254 -0.5622498   0.23205254 ...  0.36217728  1.84791957\n",
      "   1.01300893]\n",
      " [ 0.24628963 -0.49941338 -0.82799632 ...  0.40605066  1.1134493\n",
      "   0.96524152]\n",
      " [ 0.19687903  0.02123125  1.10933436 ...  0.31830389  0.78858745\n",
      "   1.39514818]\n",
      " ...\n",
      " [ 0.33275817  1.74474449 -0.38935541 ... -1.61212515 -1.48544548\n",
      "   0.28057537]\n",
      " [ 0.20923168  0.22769377  0.01273209 ... -1.56825176 -1.40069891\n",
      "   0.29649784]\n",
      " [ 1.39508604  1.58316512  1.36520822 ... -1.52437837 -1.42894777\n",
      "  -0.59516041]]\n"
     ]
    }
   ],
   "source": [
    "from sklearn.preprocessing import StandardScaler\n",
    "scaler = StandardScaler(copy=True, with_mean=True, with_std=True)\n",
    "X_scaled = scaler.fit_transform(X)\n",
    "print(X_scaled)"
   ]
  },
  {
   "cell_type": "markdown",
   "metadata": {},
   "source": [
    "## 2 ensembles: entrainement, et test"
   ]
  },
  {
   "cell_type": "code",
   "execution_count": 4,
   "metadata": {},
   "outputs": [],
   "source": [
    "from sklearn.model_selection import train_test_split\n",
    "seed = 42\n",
    "test_size = 0.3"
   ]
  },
  {
   "cell_type": "code",
   "execution_count": 5,
   "metadata": {},
   "outputs": [
    {
     "name": "stdout",
     "output_type": "stream",
     "text": [
      "124\n",
      "54\n"
     ]
    }
   ],
   "source": [
    "X_train, X_test, y_train, y_test = train_test_split(X_scaled, y, test_size=test_size, random_state=seed, shuffle=True, stratify=y)\n",
    "print(X_train.shape[0])\n",
    "print(X_test.shape[0])"
   ]
  },
  {
   "cell_type": "code",
   "execution_count": 6,
   "metadata": {},
   "outputs": [
    {
     "name": "stdout",
     "output_type": "stream",
     "text": [
      "[0.34976245 0.19717542]\n"
     ]
    }
   ],
   "source": [
    "from sklearn.decomposition import PCA\n",
    "pca = PCA(n_components=2, copy=True)\n",
    "res_pca = pca.fit_transform(X_train)\n",
    "print(pca.explained_variance_ratio_)"
   ]
  },
  {
   "cell_type": "code",
   "execution_count": 7,
   "metadata": {},
   "outputs": [
    {
     "data": {
      "image/png": "[encoded data removed]",
      "text/plain": [
       "<matplotlib.figure.Figure at 0x10a7e3048>"
      ]
     },
     "metadata": {},
     "output_type": "display_data"
    }
   ],
   "source": [
    "import matplotlib.pyplot as plt\n",
    "\n",
    "x_min, x_max = res_pca[:,0].min() - 10, res_pca[:,0].max() + 10\n",
    "y_min, y_max = res_pca[:,1].min() - 10, res_pca[:,1].max() + 10\n",
    "\n",
    "plt.figure(1, figsize=(8, 6))\n",
    "plt.clf()\n",
    "\n",
    "# Plot the training points\n",
    "plt.scatter(res_pca[:, 0], res_pca[:, 1], c=y_train, cmap=plt.cm.Set1, edgecolor='k')\n",
    "plt.xlabel('PCA 1')\n",
    "plt.ylabel('PCA 2')\n",
    "\n",
    "plt.show()"
   ]
  },
  {
   "cell_type": "markdown",
   "metadata": {},
   "source": [
    "# Réseaux de neurones"
   ]
  },
  {
   "cell_type": "markdown",
   "metadata": {},
   "source": [
    "## Tensorflow"
   ]
  },
  {
   "cell_type": "code",
   "execution_count": 8,
   "metadata": {},
   "outputs": [
    {
     "name": "stdout",
     "output_type": "stream",
     "text": [
      "4\n"
     ]
    }
   ],
   "source": [
    "n_inputs = 13\n",
    "n_hidden = 20\n",
    "n_outputs = 3\n",
    "\n",
    "learning_rate = 0.01\n",
    "#momentum = 0.9\n",
    "\n",
    "n_epochs = 100\n",
    "batch_size = 31 #4*31=124\n",
    "n_batches_per_epoch = X_train.shape[0] // batch_size\n",
    "print(n_batches_per_epoch)"
   ]
  },
  {
   "cell_type": "code",
   "execution_count": 9,
   "metadata": {
    "scrolled": true
   },
   "outputs": [
    {
     "name": "stderr",
     "output_type": "stream",
     "text": [
      "/Users/Antoine/anaconda/lib/python3.6/site-packages/h5py/__init__.py:36: FutureWarning: Conversion of the second argument of issubdtype from `float` to `np.floating` is deprecated. In future, it will be treated as `np.float64 == np.dtype(float).type`.\n",
      "  from ._conv import register_converters as _register_converters\n"
     ]
    },
    {
     "name": "stdout",
     "output_type": "stream",
     "text": [
      "0 Train accuracy: 0.2580645\n",
      "1 Train accuracy: 0.32258064\n",
      "2 Train accuracy: 0.36290324\n",
      "3 Train accuracy: 0.4032258\n",
      "4 Train accuracy: 0.43548387\n",
      "5 Train accuracy: 0.47580644\n",
      "6 Train accuracy: 0.516129\n",
      "7 Train accuracy: 0.5564516\n",
      "8 Train accuracy: 0.61290324\n",
      "9 Train accuracy: 0.63709676\n",
      "10 Train accuracy: 0.63709676\n",
      "11 Train accuracy: 0.66129035\n",
      "12 Train accuracy: 0.7096774\n",
      "13 Train accuracy: 0.7419355\n",
      "14 Train accuracy: 0.7580645\n",
      "15 Train accuracy: 0.766129\n",
      "16 Train accuracy: 0.766129\n",
      "17 Train accuracy: 0.7741935\n",
      "18 Train accuracy: 0.7822581\n",
      "19 Train accuracy: 0.7822581\n",
      "20 Train accuracy: 0.7983871\n",
      "21 Train accuracy: 0.8145161\n",
      "22 Train accuracy: 0.8145161\n",
      "23 Train accuracy: 0.8145161\n",
      "24 Train accuracy: 0.82258064\n",
      "25 Train accuracy: 0.82258064\n",
      "26 Train accuracy: 0.82258064\n",
      "27 Train accuracy: 0.83870965\n",
      "28 Train accuracy: 0.8467742\n",
      "29 Train accuracy: 0.8548387\n",
      "30 Train accuracy: 0.87096775\n",
      "31 Train accuracy: 0.87096775\n",
      "32 Train accuracy: 0.87903225\n",
      "33 Train accuracy: 0.87903225\n",
      "34 Train accuracy: 0.87903225\n",
      "35 Train accuracy: 0.88709676\n",
      "36 Train accuracy: 0.88709676\n",
      "37 Train accuracy: 0.88709676\n",
      "38 Train accuracy: 0.88709676\n",
      "39 Train accuracy: 0.88709676\n",
      "40 Train accuracy: 0.88709676\n",
      "41 Train accuracy: 0.88709676\n",
      "42 Train accuracy: 0.8951613\n",
      "43 Train accuracy: 0.8951613\n",
      "44 Train accuracy: 0.8951613\n",
      "45 Train accuracy: 0.91129035\n",
      "46 Train accuracy: 0.91129035\n",
      "47 Train accuracy: 0.91129035\n",
      "48 Train accuracy: 0.91935486\n",
      "49 Train accuracy: 0.91935486\n",
      "50 Train accuracy: 0.91935486\n",
      "51 Train accuracy: 0.91935486\n",
      "52 Train accuracy: 0.92741936\n",
      "53 Train accuracy: 0.9354839\n",
      "54 Train accuracy: 0.9354839\n",
      "55 Train accuracy: 0.9354839\n",
      "56 Train accuracy: 0.9354839\n",
      "57 Train accuracy: 0.9354839\n",
      "58 Train accuracy: 0.9354839\n",
      "59 Train accuracy: 0.9354839\n",
      "60 Train accuracy: 0.9354839\n",
      "61 Train accuracy: 0.9354839\n",
      "62 Train accuracy: 0.9354839\n",
      "63 Train accuracy: 0.9354839\n",
      "64 Train accuracy: 0.9354839\n",
      "65 Train accuracy: 0.9354839\n",
      "66 Train accuracy: 0.9354839\n",
      "67 Train accuracy: 0.9354839\n",
      "68 Train accuracy: 0.9354839\n",
      "69 Train accuracy: 0.9354839\n",
      "70 Train accuracy: 0.9354839\n",
      "71 Train accuracy: 0.9354839\n",
      "72 Train accuracy: 0.9354839\n",
      "73 Train accuracy: 0.9435484\n",
      "74 Train accuracy: 0.9516129\n",
      "75 Train accuracy: 0.9516129\n",
      "76 Train accuracy: 0.9516129\n",
      "77 Train accuracy: 0.9516129\n",
      "78 Train accuracy: 0.9516129\n",
      "79 Train accuracy: 0.9516129\n",
      "80 Train accuracy: 0.9516129\n",
      "81 Train accuracy: 0.9596774\n",
      "82 Train accuracy: 0.9596774\n",
      "83 Train accuracy: 0.9596774\n",
      "84 Train accuracy: 0.9596774\n",
      "85 Train accuracy: 0.9596774\n",
      "86 Train accuracy: 0.9596774\n",
      "87 Train accuracy: 0.9596774\n",
      "88 Train accuracy: 0.9596774\n",
      "89 Train accuracy: 0.9596774\n",
      "90 Train accuracy: 0.9596774\n",
      "91 Train accuracy: 0.9596774\n",
      "92 Train accuracy: 0.9596774\n",
      "93 Train accuracy: 0.9596774\n",
      "94 Train accuracy: 0.9596774\n",
      "95 Train accuracy: 0.9596774\n",
      "96 Train accuracy: 0.9596774\n",
      "97 Train accuracy: 0.9596774\n",
      "98 Train accuracy: 0.9596774\n",
      "99 Train accuracy: 0.9596774\n",
      "99 Test accuracy: 0.962963\n"
     ]
    }
   ],
   "source": [
    "import numpy as np\n",
    "import tensorflow as tf\n",
    "\n",
    "tf.reset_default_graph()\n",
    "\n",
    "X = tf.placeholder(tf.float32, shape=[None, n_inputs], name=\"X\")\n",
    "y = tf.placeholder(tf.int64, shape=[None], name=\"y\")\n",
    "\n",
    "hidden1 = tf.layers.dense(inputs=X, units=n_hidden, name=\"hidden1\", activation=tf.nn.relu)\n",
    "logits = tf.layers.dense(inputs=hidden1, units=n_outputs, name=\"outputs\")\n",
    "inference = tf.nn.softmax(logits, name=\"inference\")\n",
    "\n",
    "with tf.name_scope(\"loss\"):\n",
    "    xentropy = tf.nn.sparse_softmax_cross_entropy_with_logits(logits=logits, labels=y)\n",
    "    loss = tf.reduce_mean(xentropy, name=\"loss\")\n",
    "\n",
    "with tf.name_scope(\"train\"):\n",
    "    optimizer = tf.train.GradientDescentOptimizer(learning_rate=learning_rate)\n",
    "    training_op = optimizer.minimize(loss)\n",
    "\n",
    "with tf.name_scope(\"eval\"):\n",
    "    correct = tf.nn.in_top_k(logits, y, 1)\n",
    "    accuracy = tf.reduce_mean(tf.cast(correct, tf.float32))\n",
    "\n",
    "summary_writer = tf.summary.FileWriter(\".\", tf.get_default_graph())\n",
    "\n",
    "init = tf.global_variables_initializer()\n",
    "saver = tf.train.Saver()\n",
    "\n",
    "with tf.Session() as sess:\n",
    "    init.run()\n",
    "    for epoch in range(n_epochs):\n",
    "        for iteration in range(n_batches_per_epoch):\n",
    "            X_batch = X_train[iteration*batch_size:(iteration+1)*batch_size]\n",
    "            y_batch = y_train[iteration*batch_size:(iteration+1)*batch_size]\n",
    "            sess.run(training_op, feed_dict={X: X_batch, y: y_batch})\n",
    "        acc_train = accuracy.eval(feed_dict={X: X_train, y: y_train})\n",
    "        print(epoch, \"Train accuracy:\", acc_train)\n",
    "    \n",
    "    acc_test = accuracy.eval(feed_dict={X: X_test, y: y_test})\n",
    "    print(epoch, \"Test accuracy:\", acc_test)\n",
    "\n",
    "    save_path = saver.save(sess, \"./my_model_final.ckpt\")"
   ]
  },
  {
   "cell_type": "code",
   "execution_count": 10,
   "metadata": {},
   "outputs": [
    {
     "name": "stdout",
     "output_type": "stream",
     "text": [
      "INFO:tensorflow:Restoring parameters from ./my_model_final.ckpt\n"
     ]
    }
   ],
   "source": [
    "saver = tf.train.Saver()\n",
    "with tf.Session() as sess:\n",
    "    saver.restore(sess, \"./my_model_final.ckpt\")\n",
    "    res = sess.run(inference, feed_dict={X: X_train})"
   ]
  },
  {
   "cell_type": "code",
   "execution_count": 11,
   "metadata": {},
   "outputs": [
    {
     "name": "stdout",
     "output_type": "stream",
     "text": [
      "[0 1 0 0 0 0 2 1 1 2 1 1 2 1 0 2 1 0 2 2 1 2 2 2 1 2 0 1 0 1 0 1 2 1 1 2 1\n",
      " 1 1 0 2 0 0 0 0 1 1 0 2 0 1 1 2 0]\n",
      "[[9.39360023e-01 3.18245851e-02 2.88153905e-02]\n",
      " [9.56117392e-01 2.96848249e-02 1.41977416e-02]\n",
      " [8.65552425e-01 9.14575085e-02 4.29899693e-02]\n",
      " [9.71555710e-01 1.88882407e-02 9.55602340e-03]\n",
      " [7.83957243e-02 9.09878254e-01 1.17260367e-02]\n",
      " [9.40736532e-01 3.83835845e-02 2.08798014e-02]\n",
      " [2.51858262e-03 6.93893526e-03 9.90542471e-01]\n",
      " [7.64517039e-02 9.13533986e-01 1.00142797e-02]\n",
      " [2.93898918e-02 1.40351161e-01 8.30258965e-01]\n",
      " [9.15563881e-01 5.06775305e-02 3.37586030e-02]\n",
      " [2.15758055e-01 6.88108742e-01 9.61331800e-02]\n",
      " [4.81337830e-02 8.89552832e-01 6.23133890e-02]\n",
      " [1.00294901e-02 3.21439914e-02 9.57826495e-01]\n",
      " [3.10493380e-01 5.96345842e-01 9.31607857e-02]\n",
      " [9.53332722e-01 2.89620310e-02 1.77052543e-02]\n",
      " [9.72336411e-01 1.69717856e-02 1.06917936e-02]\n",
      " [4.71212268e-01 4.87439692e-01 4.13480066e-02]\n",
      " [5.14633775e-01 4.70224738e-01 1.51414825e-02]\n",
      " [4.91301976e-02 9.25664961e-01 2.52048820e-02]\n",
      " [9.53283846e-01 2.99892146e-02 1.67269092e-02]\n",
      " [2.73074210e-01 6.96685016e-01 3.02407034e-02]\n",
      " [1.38961971e-02 9.64061737e-01 2.20420472e-02]\n",
      " [2.43113954e-02 9.69787657e-01 5.90097671e-03]\n",
      " [2.25977197e-01 7.50860214e-01 2.31626891e-02]\n",
      " [4.11912739e-01 5.20082831e-01 6.80045262e-02]\n",
      " [4.53221947e-02 1.03865258e-01 8.50812614e-01]\n",
      " [8.89511257e-02 8.89507473e-01 2.15414315e-02]\n",
      " [9.72684503e-01 1.89150460e-02 8.40045977e-03]\n",
      " [1.10336533e-02 7.37346634e-02 9.15231645e-01]\n",
      " [3.06681078e-02 9.62847233e-01 6.48462633e-03]\n",
      " [3.35274376e-02 7.40016112e-03 9.59072351e-01]\n",
      " [9.47689824e-03 6.52313158e-02 9.25291777e-01]\n",
      " [8.12580228e-01 1.45064726e-01 4.23550494e-02]\n",
      " [4.92618512e-03 1.27626024e-02 9.82311249e-01]\n",
      " [4.47535403e-02 9.31411028e-01 2.38353778e-02]\n",
      " [2.61202734e-02 9.12646651e-01 6.12330846e-02]\n",
      " [2.22118832e-02 9.28199053e-01 4.95890677e-02]\n",
      " [7.04957265e-03 1.63330987e-01 8.29619408e-01]\n",
      " [7.33435247e-03 1.11622885e-02 9.81503367e-01]\n",
      " [7.11922407e-01 2.18157768e-01 6.99197948e-02]\n",
      " [7.01662600e-01 2.66592383e-01 3.17450091e-02]\n",
      " [8.60225439e-01 1.10486209e-01 2.92883459e-02]\n",
      " [7.16984451e-01 2.27831006e-01 5.51844724e-02]\n",
      " [9.58846092e-01 2.24556830e-02 1.86982043e-02]\n",
      " [9.08296049e-01 5.43144234e-02 3.73896025e-02]\n",
      " [3.43216769e-02 9.54042137e-01 1.16362255e-02]\n",
      " [3.75239551e-02 8.66907954e-01 9.55680832e-02]\n",
      " [4.89587970e-02 1.50101066e-01 8.00940156e-01]\n",
      " [5.90916276e-01 3.55805904e-01 5.32777831e-02]\n",
      " [6.37354329e-02 1.45957038e-01 7.90307522e-01]\n",
      " [3.91457975e-01 4.43040371e-01 1.65501639e-01]\n",
      " [4.67125356e-01 3.90601248e-01 1.42273426e-01]\n",
      " [7.97589242e-01 1.46523088e-01 5.58876768e-02]\n",
      " [3.37390066e-03 1.13948341e-02 9.85231280e-01]\n",
      " [9.45866287e-01 3.23673934e-02 2.17662901e-02]\n",
      " [3.11248284e-03 1.04037710e-02 9.86483753e-01]\n",
      " [4.96706031e-02 8.28169942e-01 1.22159414e-01]\n",
      " [4.33934890e-02 9.36719835e-01 1.98866148e-02]\n",
      " [3.60542625e-01 5.93248606e-01 4.62087020e-02]\n",
      " [9.56376195e-01 2.61952113e-02 1.74285509e-02]\n",
      " [1.90825582e-01 7.59258568e-01 4.99158800e-02]\n",
      " [9.73019660e-01 1.80490948e-02 8.93123355e-03]\n",
      " [3.15458626e-02 9.48466003e-01 1.99881308e-02]\n",
      " [7.90069923e-02 8.14311445e-01 1.06681593e-01]\n",
      " [9.17158127e-01 6.99186027e-02 1.29232751e-02]\n",
      " [8.28937045e-04 1.37943616e-02 9.85376656e-01]\n",
      " [6.10753186e-02 9.27245557e-01 1.16791809e-02]\n",
      " [9.16836560e-01 3.82000990e-02 4.49633971e-02]\n",
      " [9.65806603e-01 1.48551241e-02 1.93382539e-02]\n",
      " [2.53201872e-02 9.62647319e-01 1.20324083e-02]\n",
      " [8.63207802e-02 6.60869002e-01 2.52810150e-01]\n",
      " [4.09169048e-02 2.25331530e-01 7.33751535e-01]\n",
      " [7.31809974e-01 1.70789152e-01 9.74008441e-02]\n",
      " [9.69722092e-01 2.25384478e-02 7.73953833e-03]\n",
      " [5.78383962e-03 6.82970043e-03 9.87386405e-01]\n",
      " [1.15347430e-02 9.67268407e-01 2.11968310e-02]\n",
      " [3.94648276e-02 9.42380965e-01 1.81541909e-02]\n",
      " [6.54669479e-02 9.15138483e-01 1.93945095e-02]\n",
      " [3.44139263e-02 4.69635054e-03 9.60889757e-01]\n",
      " [2.74412259e-02 1.81968957e-01 7.90589809e-01]\n",
      " [8.52406863e-03 1.92023646e-02 9.72273529e-01]\n",
      " [3.84612828e-02 1.17026947e-01 8.44511747e-01]\n",
      " [1.73040312e-02 9.68735039e-01 1.39608439e-02]\n",
      " [2.31901165e-02 9.73220050e-01 3.58979986e-03]\n",
      " [9.09444094e-01 7.22110271e-02 1.83448941e-02]\n",
      " [9.70826149e-01 2.57743895e-02 3.39935883e-03]\n",
      " [1.56202428e-02 9.49086368e-01 3.52934338e-02]\n",
      " [2.12090872e-02 9.48284268e-01 3.05065848e-02]\n",
      " [1.48029223e-01 7.09808171e-01 1.42162621e-01]\n",
      " [5.92179485e-02 7.60747120e-02 8.64707351e-01]\n",
      " [8.04670563e-04 8.23449995e-03 9.90960777e-01]\n",
      " [3.00487019e-02 9.65308070e-01 4.64318320e-03]\n",
      " [5.15360497e-02 9.29502666e-01 1.89613644e-02]\n",
      " [1.02094328e-02 2.09945161e-02 9.68796015e-01]\n",
      " [9.82573688e-01 1.04251299e-02 7.00124772e-03]\n",
      " [8.91058445e-01 7.88719803e-02 3.00695151e-02]\n",
      " [9.94220018e-01 4.07835236e-03 1.70161307e-03]\n",
      " [5.22979349e-03 1.90039109e-02 9.75766301e-01]\n",
      " [2.15696886e-01 7.77047038e-01 7.25611439e-03]\n",
      " [1.06762936e-02 2.56220177e-02 9.63701725e-01]\n",
      " [2.28348244e-02 9.72133517e-01 5.03170723e-03]\n",
      " [4.97940600e-01 4.91840303e-01 1.02191679e-02]\n",
      " [4.57694679e-02 2.35020705e-02 9.30728436e-01]\n",
      " [9.42759514e-01 4.46159132e-02 1.26246447e-02]\n",
      " [1.99993715e-01 7.80221403e-01 1.97849032e-02]\n",
      " [3.01202340e-03 9.94894862e-01 2.09315657e-03]\n",
      " [9.26830769e-01 6.22762702e-02 1.08929677e-02]\n",
      " [1.59133058e-02 9.51305926e-01 3.27808261e-02]\n",
      " [1.40805021e-02 4.35480773e-02 9.42371428e-01]\n",
      " [1.39452592e-02 9.82163429e-01 3.89121473e-03]\n",
      " [4.64886315e-02 4.93300892e-02 9.04181302e-01]\n",
      " [8.85950685e-01 8.40767175e-02 2.99726184e-02]\n",
      " [8.41112249e-03 3.68394628e-02 9.54749405e-01]\n",
      " [9.44895685e-01 3.92428748e-02 1.58614777e-02]\n",
      " [7.08662093e-01 2.01355606e-01 8.99823233e-02]\n",
      " [3.80086638e-02 9.48801577e-01 1.31897749e-02]\n",
      " [1.20693684e-01 8.54126155e-01 2.51801759e-02]\n",
      " [3.15338932e-02 9.74755883e-02 8.70990515e-01]\n",
      " [8.40907335e-01 1.26030758e-01 3.30619551e-02]\n",
      " [1.66030712e-02 2.77798325e-02 9.55617130e-01]\n",
      " [3.47312987e-02 9.60535049e-01 4.73358110e-03]\n",
      " [1.65842280e-01 9.27360877e-02 7.41421700e-01]\n",
      " [2.23820237e-03 1.70960855e-02 9.80665743e-01]\n",
      " [3.42340246e-02 6.32998943e-01 3.32767069e-01]]\n"
     ]
    }
   ],
   "source": [
    "print(y_test)\n",
    "print(res)"
   ]
  },
  {
   "cell_type": "markdown",
   "metadata": {},
   "source": [
    "## Réseau \"fait à la main\""
   ]
  },
  {
   "cell_type": "code",
   "execution_count": null,
   "metadata": {
    "collapsed": true
   },
   "outputs": [],
   "source": []
  }
 ],
 "metadata": {
  "kernelspec": {
   "display_name": "Python 3",
   "language": "python",
   "name": "python3"
  },
  "language_info": {
   "codemirror_mode": {
    "name": "ipython",
    "version": 3
   },
   "file_extension": ".py",
   "mimetype": "text/x-python",
   "name": "python",
   "nbconvert_exporter": "python",
   "pygments_lexer": "ipython3",
   "version": "3.6.2"
  }
 },
 "nbformat": 4,
 "nbformat_minor": 2
}
